{
 "cells": [
  {
   "cell_type": "code",
   "execution_count": 1,
   "id": "7892977e",
   "metadata": {},
   "outputs": [
    {
     "name": "stdout",
     "output_type": "stream",
     "text": [
      "['__doc__', '__file__', '__loader__', '__name__', '__package__', '__spec__', 'acos', 'acosh', 'asin', 'asinh', 'atan', 'atan2', 'atanh', 'ceil', 'comb', 'copysign', 'cos', 'cosh', 'degrees', 'dist', 'e', 'erf', 'erfc', 'exp', 'expm1', 'fabs', 'factorial', 'floor', 'fmod', 'frexp', 'fsum', 'gamma', 'gcd', 'hypot', 'inf', 'isclose', 'isfinite', 'isinf', 'isnan', 'isqrt', 'lcm', 'ldexp', 'lgamma', 'log', 'log10', 'log1p', 'log2', 'modf', 'nan', 'nextafter', 'perm', 'pi', 'pow', 'prod', 'radians', 'remainder', 'sin', 'sinh', 'sqrt', 'tan', 'tanh', 'tau', 'trunc', 'ulp']\n"
     ]
    }
   ],
   "source": [
    "import math\n",
    "sorted=dir(math) #dir() function return sorted list of strings containing names defined by a module\n",
    "print(sorted)"
   ]
  },
  {
   "cell_type": "code",
   "execution_count": null,
   "id": "4dd2cca6",
   "metadata": {},
   "outputs": [],
   "source": [
    "#OOP \n",
    "#class is a userdefined blueprint of an object that describes how the object should look like\n",
    "#class has 1. member varaible\n",
    "        #  2. member functions\n",
    "#Object is a single instance of a class\n",
    "# object contains 1.name(variable name)\n",
    "            #.    2. member data(data that describes the object)\n",
    "#.                3. member methods(behaviour that describes the object)\n",
    "\n",
    "#for example MOBILE PHONE is a CLASS\n",
    "#.           APPLE is an OBJECT\n"
   ]
  },
  {
   "cell_type": "code",
   "execution_count": 31,
   "id": "3b60cef1",
   "metadata": {},
   "outputs": [
    {
     "name": "stdout",
     "output_type": "stream",
     "text": [
      "your order is thukpa  and the spice level is mild\n",
      "your order is momo  and the spice level is spicy\n",
      "your order is chowmein  and the spice level is extra spicy\n",
      "number of orders so far is  3\n"
     ]
    }
   ],
   "source": [
    "class order:\n",
    "    order_count=0\n",
    "    def __init__(self,dish,spice):    #__init__ function is very important  \n",
    "        self.dish=dish   #get the habit of using self in class, even if you're taking no parameters, use self\n",
    "        self.spice=spice\n",
    "        order.order_count+=1\n",
    "    def display_info(self):\n",
    "        print(\"your order is %s  and the spice level is %s\"%(self.dish,self.spice))\n",
    "od1=order(\"thukpa\",\"mild\")\n",
    "od2=order(\"momo\",\"spicy\")\n",
    "od3=order(\"chowmein\",\"extra spicy\")\n",
    "od1.display_info()\n",
    "od2.display_info()\n",
    "od3.display_info()\n",
    "print(\"number of orders so far is \",order.order_count)"
   ]
  },
  {
   "cell_type": "code",
   "execution_count": 34,
   "id": "39cb4c54",
   "metadata": {},
   "outputs": [
    {
     "name": "stdout",
     "output_type": "stream",
     "text": [
      "you tenzin can vote\n",
      "you hazel can't vote since you are 7 years old, you should be atleast 18 years old\n"
     ]
    }
   ],
   "source": [
    "#here's my short program to check one's eligiblity to \n",
    "class vote:\n",
    "    def __init__(self,name,age,gender):    \n",
    "        self.name=name\n",
    "        self.age=age\n",
    "        self.gender=gender\n",
    "    def eligibility(self):\n",
    "        if(self.age>=18):\n",
    "            print(\"you %s can vote\"%self.name)\n",
    "        else:\n",
    "            print(\"you %s can't vote since you are %d years old, you should be atleast 18 years old\"%(self.name,self.age))\n",
    "p1=vote(\"tenzin\",24,\"F\")\n",
    "p1.eligibility()\n",
    "p2=vote(\"hazel\",7,\"F\")\n",
    "p2.eligibility()\n",
    "        "
   ]
  },
  {
   "cell_type": "code",
   "execution_count": null,
   "id": "8c8caaf8",
   "metadata": {},
   "outputs": [],
   "source": []
  }
 ],
 "metadata": {
  "kernelspec": {
   "display_name": "Python 3 (ipykernel)",
   "language": "python",
   "name": "python3"
  },
  "language_info": {
   "codemirror_mode": {
    "name": "ipython",
    "version": 3
   },
   "file_extension": ".py",
   "mimetype": "text/x-python",
   "name": "python",
   "nbconvert_exporter": "python",
   "pygments_lexer": "ipython3",
   "version": "3.10.9"
  }
 },
 "nbformat": 4,
 "nbformat_minor": 5
}
