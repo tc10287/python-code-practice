{
 "cells": [
  {
   "cell_type": "code",
   "execution_count": 1,
   "id": "ef919d94",
   "metadata": {},
   "outputs": [],
   "source": [
    "# the goal of this challenge is to analyze a string to check if it contains two of the same letter in a row. \n",
    "# for example the string \"hello\" has l twice in a row\n",
    "#while \"nono\" doesn't have two identical letter in a row\n",
    "\n",
    "# define  function named double_letters that takes single parameter. the parameter is a string\n",
    "#your function must return true if there are two identicak letters in a row in the string and false otherwise\n",
    "\n",
    "\n"
   ]
  },
  {
   "cell_type": "code",
   "execution_count": 36,
   "id": "ea57a143",
   "metadata": {},
   "outputs": [
    {
     "data": {
      "text/plain": [
       "'false'"
      ]
     },
     "execution_count": 36,
     "metadata": {},
     "output_type": "execute_result"
    }
   ],
   "source": [
    "def double_letters(str): \n",
    "    for i in range(0,len(str)):    #selecting range so i can perform iteration to check if the letter matches with the next one\n",
    "        if str[i]==str[i+1]:\n",
    "            return(\"true\")\n",
    "        else:\n",
    "            return(\"false\")\n",
    "double_letters(\"hvn\")"
   ]
  },
  {
   "cell_type": "code",
   "execution_count": null,
   "id": "c2ab4dea",
   "metadata": {},
   "outputs": [],
   "source": []
  },
  {
   "cell_type": "code",
   "execution_count": null,
   "id": "5a818a83",
   "metadata": {},
   "outputs": [],
   "source": []
  }
 ],
 "metadata": {
  "kernelspec": {
   "display_name": "Python 3 (ipykernel)",
   "language": "python",
   "name": "python3"
  },
  "language_info": {
   "codemirror_mode": {
    "name": "ipython",
    "version": 3
   },
   "file_extension": ".py",
   "mimetype": "text/x-python",
   "name": "python",
   "nbconvert_exporter": "python",
   "pygments_lexer": "ipython3",
   "version": "3.10.9"
  }
 },
 "nbformat": 4,
 "nbformat_minor": 5
}
