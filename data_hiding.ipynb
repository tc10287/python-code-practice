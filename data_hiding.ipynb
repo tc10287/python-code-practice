{
 "cells": [
  {
   "cell_type": "code",
   "execution_count": 1,
   "id": "91ab6b6c",
   "metadata": {},
   "outputs": [],
   "source": [
    "#data hiding \n",
    "#attribute with double uderscore\n",
    "#prefix are not directly visible to outside\n",
    "\n",
    "# to get the value of the hidden datat use the syntax\n",
    "# (objname._classname__attribute)"
   ]
  },
  {
   "cell_type": "code",
   "execution_count": 2,
   "id": "cd011242",
   "metadata": {},
   "outputs": [
    {
     "name": "stdout",
     "output_type": "stream",
     "text": [
      "5\n"
     ]
    }
   ],
   "source": [
    "class datahiding:\n",
    "    def __init__(self,x):\n",
    "        self.x=x\n",
    "        self._c=8\n",
    "        self.__cc=10\n",
    "data1=datahiding(5)\n",
    "print(data1.x)"
   ]
  },
  {
   "cell_type": "code",
   "execution_count": 3,
   "id": "777d8318",
   "metadata": {},
   "outputs": [
    {
     "name": "stdout",
     "output_type": "stream",
     "text": [
      "8\n"
     ]
    }
   ],
   "source": [
    "print(data1._c)"
   ]
  },
  {
   "cell_type": "code",
   "execution_count": 8,
   "id": "f784bc7a",
   "metadata": {},
   "outputs": [
    {
     "ename": "AttributeError",
     "evalue": "'datahiding' object has no attribute '__cc'",
     "output_type": "error",
     "traceback": [
      "\u001b[1;31m---------------------------------------------------------------------------\u001b[0m",
      "\u001b[1;31mAttributeError\u001b[0m                            Traceback (most recent call last)",
      "Cell \u001b[1;32mIn[8], line 1\u001b[0m\n\u001b[1;32m----> 1\u001b[0m \u001b[38;5;28mprint\u001b[39m(\u001b[43mdata1\u001b[49m\u001b[38;5;241;43m.\u001b[39;49m\u001b[43m__cc\u001b[49m)\n",
      "\u001b[1;31mAttributeError\u001b[0m: 'datahiding' object has no attribute '__cc'"
     ]
    }
   ],
   "source": [
    "print(data1.__cc)  #as you can see, value __c is hidden. you need proper syntax to get the value"
   ]
  },
  {
   "cell_type": "code",
   "execution_count": 9,
   "id": "c57f8310",
   "metadata": {},
   "outputs": [
    {
     "name": "stdout",
     "output_type": "stream",
     "text": [
      "10\n"
     ]
    }
   ],
   "source": [
    "print(data1._datahiding__cc)"
   ]
  },
  {
   "cell_type": "code",
   "execution_count": 10,
   "id": "7fa26d6f",
   "metadata": {},
   "outputs": [
    {
     "name": "stdout",
     "output_type": "stream",
     "text": [
      "hello12\n"
     ]
    }
   ],
   "source": [
    "class private_info:\n",
    "    def __init__(self,uname):\n",
    "        self.uname=uname\n",
    "        self.__password=\"mteverest\"     #hiding the data\n",
    "    def quotes(self):\n",
    "        print(\"if you can't help others, atleast don't hurt them\")\n",
    "person1=private_info(\"hello12\")\n",
    "print(person1.uname)"
   ]
  },
  {
   "cell_type": "code",
   "execution_count": 11,
   "id": "bb882778",
   "metadata": {},
   "outputs": [
    {
     "name": "stdout",
     "output_type": "stream",
     "text": [
      "mteverest\n"
     ]
    }
   ],
   "source": [
    "print(person1._private_info__password)"
   ]
  },
  {
   "cell_type": "code",
   "execution_count": null,
   "id": "8581c2cd",
   "metadata": {},
   "outputs": [],
   "source": []
  }
 ],
 "metadata": {
  "kernelspec": {
   "display_name": "Python 3 (ipykernel)",
   "language": "python",
   "name": "python3"
  },
  "language_info": {
   "codemirror_mode": {
    "name": "ipython",
    "version": 3
   },
   "file_extension": ".py",
   "mimetype": "text/x-python",
   "name": "python",
   "nbconvert_exporter": "python",
   "pygments_lexer": "ipython3",
   "version": "3.10.9"
  }
 },
 "nbformat": 4,
 "nbformat_minor": 5
}
