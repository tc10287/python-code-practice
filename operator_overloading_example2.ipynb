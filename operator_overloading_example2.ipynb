{
 "cells": [
  {
   "cell_type": "code",
   "execution_count": 4,
   "id": "ac6066a5",
   "metadata": {},
   "outputs": [
    {
     "name": "stdout",
     "output_type": "stream",
     "text": [
      "suburu is better\n"
     ]
    }
   ],
   "source": [
    "class suburu:        #defining a suburu class\n",
    "    def __init__(self,mpg):    \n",
    "        self.mpg=mpg\n",
    "    def __gt__(self,second):  #greater than > operator overloading\n",
    "        x=self.mpg\n",
    "        y=second.mpg\n",
    "        if x>y:\n",
    "            return(True)\n",
    "        else:\n",
    "            return(False)\n",
    "class volvo:                  #defining volvo class\n",
    "    def __init__(self,mpg):\n",
    "        self.mpg=mpg\n",
    "car1=suburu(30)\n",
    "car2=volvo(24)\n",
    "if car1>car2:                 #executing the greater than sign\n",
    "    print(\"suburu is better\")\n",
    "else:\n",
    "    print(\"volvo is better\")"
   ]
  },
  {
   "cell_type": "code",
   "execution_count": null,
   "id": "f3be3ae2",
   "metadata": {},
   "outputs": [],
   "source": []
  }
 ],
 "metadata": {
  "kernelspec": {
   "display_name": "Python 3 (ipykernel)",
   "language": "python",
   "name": "python3"
  },
  "language_info": {
   "codemirror_mode": {
    "name": "ipython",
    "version": 3
   },
   "file_extension": ".py",
   "mimetype": "text/x-python",
   "name": "python",
   "nbconvert_exporter": "python",
   "pygments_lexer": "ipython3",
   "version": "3.10.9"
  }
 },
 "nbformat": 4,
 "nbformat_minor": 5
}
