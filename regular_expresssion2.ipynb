{
 "cells": [
  {
   "cell_type": "code",
   "execution_count": 1,
   "id": "8e085603",
   "metadata": {},
   "outputs": [],
   "source": [
    "#task: extract all twitter handles from the following text. Twitter handle is the text that apprears \n",
    "# as https://twitter.com/ and is a single word. "
   ]
  },
  {
   "cell_type": "code",
   "execution_count": 25,
   "id": "19c4de5e",
   "metadata": {},
   "outputs": [
    {
     "data": {
      "text/plain": [
       "['elonmusk', 'teslarati', 'dummy_tesla', 'dummy_2_tesla']"
      ]
     },
     "execution_count": 25,
     "metadata": {},
     "output_type": "execute_result"
    }
   ],
   "source": [
    "import re\n",
    "text = '''\n",
    "Follow our leader Elon musk on twitter here: https://twitter.com/elonmusk, more information\n",
    "on Tesla's products can be found at https://www.tesla.com/. Also here are leading influencers\n",
    "for tesla related news,\n",
    "https://twitter.com/teslarati\n",
    "https://twitter.com/dummy_tesla https://twitter.com/dummy_2_tesla\n",
    "'''\n",
    "pattern=\"https:\\/\\/twitter.com\\/([A-Za-z0-9\\/_]+)\"\n",
    "re.findall(pattern,text)"
   ]
  },
  {
   "cell_type": "code",
   "execution_count": null,
   "id": "800c222d",
   "metadata": {},
   "outputs": [],
   "source": [
    " \n",
    "#. Extract Concentration Risk Types. It will be a text that appears after \"Concentration of Risk:\",\n",
    "# In below example, your regex should extract these two strings (1) Credit Risk (2) Supply Rish"
   ]
  },
  {
   "cell_type": "code",
   "execution_count": 35,
   "id": "25e993c8",
   "metadata": {},
   "outputs": [
    {
     "data": {
      "text/plain": [
       "[' Credit Risk', ' Supply Risk']"
      ]
     },
     "execution_count": 35,
     "metadata": {},
     "output_type": "execute_result"
    }
   ],
   "source": [
    "import re\n",
    "text ='''Concentration of Risk: Credit Risk\n",
    "Financial instruments that potentially subject us to a concentration of credit risk consist of cash, cash equivalents, marketable securities, restricted cash, accounts receivable, convertible note hedges, and interest rate swaps. Our cash balances are primarily invested in money market funds\n",
    "or on deposit at high credit quality financial institutions in the U.S. These deposits are typically in excess of insured limits. As of September 30, 2021\n",
    "and December 31, 2020, no entity represented 10% or more of our total accounts receivable balance. The risk of concentration for our convertible note\n",
    "hedges and interest rate swaps is mitigated by transacting with several highly-rated multinational banks.\n",
    "Concentration of Risk: Supply Risk\n",
    "We are dependent on our suppliers, including single source suppliers, and the inability of these suppliers to deliver necessary components of our\n",
    "products in a timely manner at prices, quality levels and volumes acceptable to us, or our inability to efficiently manage these components from these\"\n",
    "suppliers, could have a material adverse effect on our business, prospects, financial condition and operating results.'''\n",
    "\n",
    "pattern= \"Concentration of Risk:([^\\n]*)\" #everything except new line\n",
    "re.findall(pattern,text)"
   ]
  },
  {
   "cell_type": "code",
   "execution_count": null,
   "id": "4f53c42c",
   "metadata": {},
   "outputs": [],
   "source": [
    "# Companies in europe reports their financial numbers of semi annual basis and you can have a document like this.\n",
    "# To extract quarterly and semin annual period you can use a regex as shown below\n"
   ]
  },
  {
   "cell_type": "code",
   "execution_count": 44,
   "id": "11aebb98",
   "metadata": {},
   "outputs": [
    {
     "data": {
      "text/plain": [
       "['2021 Q1', '2021 S1']"
      ]
     },
     "execution_count": 44,
     "metadata": {},
     "output_type": "execute_result"
    }
   ],
   "source": [
    "import re\n",
    "text = '''\n",
    "Tesla's gross cost of operating lease vehicles in FY2021 Q1 was $4.85 billion.\n",
    "BMW's gross cost of operating vehicles in FY2021 S1 was $8 billion.\n",
    "'''\n",
    "pattern=\"FY(\\d{4} (?:Q[1-4]|S[1-2]))\" # start with FY with 4 digits after, either starts with Q or S\n",
    "re.findall(pattern,text)"
   ]
  },
  {
   "cell_type": "code",
   "execution_count": null,
   "id": "58fd1c5e",
   "metadata": {},
   "outputs": [],
   "source": []
  }
 ],
 "metadata": {
  "kernelspec": {
   "display_name": "Python 3 (ipykernel)",
   "language": "python",
   "name": "python3"
  },
  "language_info": {
   "codemirror_mode": {
    "name": "ipython",
    "version": 3
   },
   "file_extension": ".py",
   "mimetype": "text/x-python",
   "name": "python",
   "nbconvert_exporter": "python",
   "pygments_lexer": "ipython3",
   "version": "3.10.9"
  }
 },
 "nbformat": 4,
 "nbformat_minor": 5
}
