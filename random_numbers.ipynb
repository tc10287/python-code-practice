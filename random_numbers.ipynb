{
 "cells": [
  {
   "cell_type": "code",
   "execution_count": 12,
   "id": "74dc1c12",
   "metadata": {},
   "outputs": [
    {
     "name": "stdout",
     "output_type": "stream",
     "text": [
      "<function random_number at 0x7fa695cf0ee0>\n",
      "<function random_number at 0x7fa695cf0ee0>\n",
      "<function random_number at 0x7fa695cf0ee0>\n"
     ]
    }
   ],
   "source": [
    "#define a function random_number that takes no parameters. The function must generate a random integer\n",
    "#between 1 and 100, both inclusive and return it\n",
    "\n",
    "import random             #importing random module\n",
    "def random_number():         \n",
    "    r=random.randrange(1,100)    #using randrange built-in function to give a range \n",
    "    return(r)\n",
    "print(random_number)\n",
    "print(random_number)\n",
    "print(random_number)\n",
    "\n",
    "             #the output comes out like this \"<function random_number at 0x7fa695cf0ee0>\" not giving integer\n"
   ]
  },
  {
   "cell_type": "code",
   "execution_count": null,
   "id": "988a4702",
   "metadata": {},
   "outputs": [],
   "source": []
  },
  {
   "cell_type": "code",
   "execution_count": null,
   "id": "94c2a324",
   "metadata": {},
   "outputs": [],
   "source": []
  },
  {
   "cell_type": "code",
   "execution_count": null,
   "id": "d68a8af1",
   "metadata": {},
   "outputs": [],
   "source": []
  },
  {
   "cell_type": "code",
   "execution_count": null,
   "id": "0f5f1131",
   "metadata": {},
   "outputs": [],
   "source": []
  },
  {
   "cell_type": "code",
   "execution_count": null,
   "id": "c0286490",
   "metadata": {},
   "outputs": [],
   "source": []
  },
  {
   "cell_type": "code",
   "execution_count": null,
   "id": "bfa90f9a",
   "metadata": {},
   "outputs": [],
   "source": []
  },
  {
   "cell_type": "code",
   "execution_count": null,
   "id": "d10e8bce",
   "metadata": {},
   "outputs": [],
   "source": []
  }
 ],
 "metadata": {
  "kernelspec": {
   "display_name": "Python 3 (ipykernel)",
   "language": "python",
   "name": "python3"
  },
  "language_info": {
   "codemirror_mode": {
    "name": "ipython",
    "version": 3
   },
   "file_extension": ".py",
   "mimetype": "text/x-python",
   "name": "python",
   "nbconvert_exporter": "python",
   "pygments_lexer": "ipython3",
   "version": "3.10.9"
  }
 },
 "nbformat": 4,
 "nbformat_minor": 5
}
