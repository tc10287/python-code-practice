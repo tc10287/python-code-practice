{
 "cells": [
  {
   "cell_type": "code",
   "execution_count": null,
   "id": "64ee107e",
   "metadata": {},
   "outputs": [],
   "source": [
    "#regular expression \n",
    "#special sequence of character that helps you match or find other strings or set of strings using specialised syntax\n",
    "\n",
    "\n",
    "#we should import re module"
   ]
  },
  {
   "cell_type": "code",
   "execution_count": null,
   "id": "c010d534",
   "metadata": {},
   "outputs": [],
   "source": [
    "import re\n",
    "pattern=re.compile(\"^[A-Z]+$\")\n",
    "# ^ means start of the string\n",
    "# [A-Z] uppercase character\n",
    "# $ means end of the string\n",
    "\n",
    "#pattern should return string the contain only uppercase character\n"
   ]
  },
  {
   "cell_type": "code",
   "execution_count": null,
   "id": "7d70efc2",
   "metadata": {},
   "outputs": [],
   "source": [
    "# search checks for all the string\n",
    "\n",
    "print(pattern.search(\"Hello World\"))  #not every character is Upper case\n",
    "print(pattern.search(\"HELLO WORLD\")) #every character is upper case but there's a space in between\n",
    "print(pattern.search(\"HELLOWORLD\"))  #satisfies the pattern condition"
   ]
  },
  {
   "cell_type": "code",
   "execution_count": null,
   "id": "6bdf98d7",
   "metadata": {},
   "outputs": [],
   "source": [
    "pattern=re.compile(\"[A-Z]+\")    \n",
    "# match checks from the beginning, if it doesn't match it drops it\n",
    "\n",
    "print(pattern.match(\"hello World\"))  # there's no uppercase in the beginning\n",
    "print(pattern.match(\"HELLO WORLD\")) #the string started from uppercase H then goes till it reached the space\n",
    "print(pattern.match(\"HELLOWORLD\"))  #matched all the pattern criteria"
   ]
  },
  {
   "cell_type": "code",
   "execution_count": null,
   "id": "2cf3f781",
   "metadata": {},
   "outputs": [],
   "source": [
    "pattern=re.compile(\"^[A-Za-z\\s]+$\")\n",
    "print(pattern.match(\"hello World\")) \n",
    "print(pattern.match(\"HELLO WORLD\")) \n",
    "print(pattern.match(\"HELLOWORLD\"))  \n",
    "\n",
    "print(pattern.search(\"Hello World\"))\n",
    "print(pattern.search(\"HELLO WORLD\")) \n",
    "print(pattern.search(\"HELLOWORLD\")) \n",
    "\n",
    "#it matches all the criteria "
   ]
  },
  {
   "cell_type": "code",
   "execution_count": null,
   "id": "0dc2f78a",
   "metadata": {},
   "outputs": [],
   "source": [
    "# task is 3 lowercase, 3-5 digits, 1 symbol,up to two Upperchase character\n",
    "# eg xrv353@US\n",
    "pattern=re.compile(\"^[a-z]{3}[0-9]{3,5}[^a-zA-Z0-9]{1}[A-Z]{0,2}$\")\n",
    "# {} means the count {3} three counts {0,5} 0 to 5 counts\n",
    "# [^] the power sign ^ inside the bracket means NOT [^a-zA-Z0-9]{1} that means not upper,lower case and number i.e symbols"
   ]
  },
  {
   "cell_type": "code",
   "execution_count": 27,
   "id": "5747ae4c",
   "metadata": {},
   "outputs": [
    {
     "name": "stdout",
     "output_type": "stream",
     "text": [
      "make a new password \n",
      "tchdf325@\n",
      "<re.Match object; span=(0, 9), match='tchdf325@'>\n"
     ]
    }
   ],
   "source": [
    "core_password=re.compile(\"[A-Za-z]{5,7}[0-9]{3,4}[^a-zA-Z0-9]{1,3}$\")\n",
    "password=input(\"make a new password \\n\")\n",
    "print(re.search(core_password,password))"
   ]
  },
  {
   "cell_type": "code",
   "execution_count": 33,
   "id": "8de80325",
   "metadata": {},
   "outputs": [
    {
     "data": {
      "text/plain": [
       "['$4billion', '$204423459']"
      ]
     },
     "execution_count": 33,
     "metadata": {},
     "output_type": "execute_result"
    }
   ],
   "source": [
    "# finding a pattern in a text\n",
    "\n",
    "text=\"the gross cost of operaring in FY2021 Q1 was $4billion and previous FY2020 Q4 was 3 billion fy2021 Q2 $204423459\"\n",
    "pattern1=\"\\$[0-9]{0,20}[a-z]{0,10}|\\$[0-9]{0,13}\"\n",
    "match1=re.findall(pattern1,text)\n",
    "match1\n"
   ]
  },
  {
   "cell_type": "code",
   "execution_count": 40,
   "id": "f39c189e",
   "metadata": {},
   "outputs": [
    {
     "data": {
      "text/plain": [
       "['FY2021', 'FY2020', 'fy2021']"
      ]
     },
     "execution_count": 40,
     "metadata": {},
     "output_type": "execute_result"
    }
   ],
   "source": [
    "pattern2=\"[A-Za-z]{2}[0-9]{4}\"\n",
    "match2=re.findall(pattern2,text)\n",
    "match2"
   ]
  },
  {
   "cell_type": "code",
   "execution_count": 41,
   "id": "5741c440",
   "metadata": {},
   "outputs": [
    {
     "data": {
      "text/plain": [
       "[('2021 Q1', '4'), ('2020 Q4', '204423459')]"
      ]
     },
     "execution_count": 41,
     "metadata": {},
     "output_type": "execute_result"
    }
   ],
   "source": [
    "pattern3=\"FY([\\d]{4} Q[\\d]{1,4})[^\\$]+\\$([\\d.\\d]+)\"\n",
    "match3=re.findall(pattern3,text)\n",
    "match3"
   ]
  },
  {
   "cell_type": "code",
   "execution_count": null,
   "id": "48da5fa6",
   "metadata": {},
   "outputs": [],
   "source": []
  }
 ],
 "metadata": {
  "kernelspec": {
   "display_name": "Python 3 (ipykernel)",
   "language": "python",
   "name": "python3"
  },
  "language_info": {
   "codemirror_mode": {
    "name": "ipython",
    "version": 3
   },
   "file_extension": ".py",
   "mimetype": "text/x-python",
   "name": "python",
   "nbconvert_exporter": "python",
   "pygments_lexer": "ipython3",
   "version": "3.10.9"
  }
 },
 "nbformat": 4,
 "nbformat_minor": 5
}
