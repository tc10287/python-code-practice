{
 "cells": [
  {
   "cell_type": "code",
   "execution_count": 1,
   "id": "0f23e2d8",
   "metadata": {},
   "outputs": [],
   "source": [
    "#operator overloading\n",
    "#operator overloading is allowing the same operator to have different meaning\n"
   ]
  },
  {
   "cell_type": "code",
   "execution_count": 8,
   "id": "73f63a21",
   "metadata": {},
   "outputs": [
    {
     "name": "stdout",
     "output_type": "stream",
     "text": [
      "7\n"
     ]
    }
   ],
   "source": [
    "#task is to add the x-corodinate and y-coordinate separately \n",
    "class demo:\n",
    "    def __init__(self,a,b):  \n",
    "        self.a=a\n",
    "        self.b=b\n",
    "    def __add__(self,second):   \n",
    "        a=self.a+second.a     #we're adding the x coordinates here\n",
    "        b=self.b+second.b     #we're adding the x coordinates here\n",
    "        c=demo(a,b)\n",
    "        return(c)            #we're returning the added value\n",
    "pt1=demo(2,6)\n",
    "pt2=demo(5,3)\n",
    "pt3=pt1+pt2\n",
    "print(pt3.a)                 #this is the part we're accessing the sum of x-coordinate part\n"
   ]
  },
  {
   "cell_type": "code",
   "execution_count": 10,
   "id": "13d42ffe",
   "metadata": {},
   "outputs": [
    {
     "name": "stdout",
     "output_type": "stream",
     "text": [
      "-54412\n",
      "-3407\n"
     ]
    }
   ],
   "source": [
    "#task is to subtract the x-corodinate and y-coordinate separately \n",
    "class demo:\n",
    "    def __init__(self,a,b):  \n",
    "        self.a=a\n",
    "        self.b=b\n",
    "    def __sub__(self,second):   \n",
    "        a=self.a-second.a     #we're subtractinging the x coordinates here\n",
    "        b=self.b-second.b     #we're subtracting the x coordinates here\n",
    "        c=demo(a,b)\n",
    "        return(c)            #we're returning the net value\n",
    "pt1=demo(3245,16)\n",
    "pt2=demo(57657,3423)\n",
    "pt3=pt1-pt2\n",
    "print(pt3.a) \n",
    "print(pt3.b)"
   ]
  },
  {
   "cell_type": "code",
   "execution_count": 11,
   "id": "a041a77f",
   "metadata": {},
   "outputs": [
    {
     "name": "stdout",
     "output_type": "stream",
     "text": [
      "123825\n",
      "2328\n"
     ]
    }
   ],
   "source": [
    "#task is to multiply the x-corodinate and y-coordinate separately \n",
    "class demo:\n",
    "    def __init__(self,a,b):  \n",
    "        self.a=a\n",
    "        self.b=b\n",
    "    def __mul__(self,second):   \n",
    "        a=self.a*second.a     #we're multiplying the x coordinates here\n",
    "        b=self.b*second.b     #we're multiplying the x coordinates here\n",
    "        c=demo(a,b)\n",
    "        return(c)            #we're returning the product \n",
    "pt1=demo(24765,6)\n",
    "pt2=demo(5,388)\n",
    "pt3=pt1*pt2\n",
    "print(pt3.a)\n",
    "print(pt3.b)"
   ]
  },
  {
   "cell_type": "code",
   "execution_count": 15,
   "id": "6b48385a",
   "metadata": {},
   "outputs": [
    {
     "name": "stdout",
     "output_type": "stream",
     "text": [
      "8.0\n",
      "3.0\n"
     ]
    }
   ],
   "source": [
    "#task is to dividing the x-corodinate and y-coordinate separately \n",
    "class demo:\n",
    "    def __init__(self,a,b):  \n",
    "        self.a=a\n",
    "        self.b=b\n",
    "    def __truediv__(self,second):   \n",
    "        a=self.a/second.a     #we're dividing the x coordinates here\n",
    "        b=self.b/second.b     #we're dividing the x coordinates here\n",
    "        c=demo(a,b)\n",
    "        return(c)            #we're returning the net value \n",
    "pt1=demo(24,6)\n",
    "pt2=demo(3,2)\n",
    "pt3=(pt1)/(pt2)\n",
    "print(pt3.a)\n",
    "print(pt3.b)"
   ]
  },
  {
   "cell_type": "code",
   "execution_count": null,
   "id": "995838e4",
   "metadata": {},
   "outputs": [],
   "source": []
  }
 ],
 "metadata": {
  "kernelspec": {
   "display_name": "Python 3 (ipykernel)",
   "language": "python",
   "name": "python3"
  },
  "language_info": {
   "codemirror_mode": {
    "name": "ipython",
    "version": 3
   },
   "file_extension": ".py",
   "mimetype": "text/x-python",
   "name": "python",
   "nbconvert_exporter": "python",
   "pygments_lexer": "ipython3",
   "version": "3.10.9"
  }
 },
 "nbformat": 4,
 "nbformat_minor": 5
}
