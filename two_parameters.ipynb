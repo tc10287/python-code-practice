{
 "cells": [
  {
   "cell_type": "code",
   "execution_count": 3,
   "id": "65f74c07",
   "metadata": {},
   "outputs": [
    {
     "data": {
      "text/plain": [
       "False"
      ]
     },
     "execution_count": 3,
     "metadata": {},
     "output_type": "execute_result"
    }
   ],
   "source": [
    "#write a function named only_ints that takes two parameters. your function should return true \n",
    "#if both parameter are integers and false otherwise\n",
    "\n",
    "def only_ints(x,y):\n",
    "    tx=type(x)\n",
    "    ty=type(y)\n",
    "    return(tx==int and ty==int)   #using AND function\n",
    "only_ints(3,8.6)"
   ]
  },
  {
   "cell_type": "code",
   "execution_count": null,
   "id": "53d3eb47",
   "metadata": {},
   "outputs": [],
   "source": []
  }
 ],
 "metadata": {
  "kernelspec": {
   "display_name": "Python 3 (ipykernel)",
   "language": "python",
   "name": "python3"
  },
  "language_info": {
   "codemirror_mode": {
    "name": "ipython",
    "version": 3
   },
   "file_extension": ".py",
   "mimetype": "text/x-python",
   "name": "python",
   "nbconvert_exporter": "python",
   "pygments_lexer": "ipython3",
   "version": "3.10.9"
  }
 },
 "nbformat": 4,
 "nbformat_minor": 5
}
