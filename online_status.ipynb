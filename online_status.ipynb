{
 "cells": [
  {
   "cell_type": "code",
   "execution_count": 36,
   "id": "dd515ed3",
   "metadata": {},
   "outputs": [
    {
     "data": {
      "text/plain": [
       "3"
      ]
     },
     "execution_count": 36,
     "metadata": {},
     "output_type": "execute_result"
    }
   ],
   "source": [
    "#write a function namrd online_count that takes one parameter. the parameter is a dictionary that maps from\n",
    "#strings of names to the string \"online \" or \"offline\" \n",
    "\n",
    "def online_count(dict):    #defining the function\n",
    "    count=0               #initialising the count as 0\n",
    "    for key, value in dict.items():   #for loop \n",
    "        if value==\"online\":\n",
    "            count=count+1             #incrementing the count if the condition satisfies\n",
    "    return(count)\n",
    "dict1={\"ten\":\"online\",\"ch\":\"offline\",\"tenz\":\"online\",\"tencg\":\"online\"}\n",
    "online_count(dict1)"
   ]
  },
  {
   "cell_type": "code",
   "execution_count": null,
   "id": "4b86e887",
   "metadata": {},
   "outputs": [],
   "source": []
  },
  {
   "cell_type": "code",
   "execution_count": null,
   "id": "9acc41e6",
   "metadata": {},
   "outputs": [],
   "source": []
  },
  {
   "cell_type": "code",
   "execution_count": null,
   "id": "c9485172",
   "metadata": {},
   "outputs": [],
   "source": []
  }
 ],
 "metadata": {
  "kernelspec": {
   "display_name": "Python 3 (ipykernel)",
   "language": "python",
   "name": "python3"
  },
  "language_info": {
   "codemirror_mode": {
    "name": "ipython",
    "version": 3
   },
   "file_extension": ".py",
   "mimetype": "text/x-python",
   "name": "python",
   "nbconvert_exporter": "python",
   "pygments_lexer": "ipython3",
   "version": "3.10.9"
  }
 },
 "nbformat": 4,
 "nbformat_minor": 5
}
